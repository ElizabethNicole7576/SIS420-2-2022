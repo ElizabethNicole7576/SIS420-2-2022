{
  "nbformat": 4,
  "nbformat_minor": 0,
  "metadata": {
    "colab": {
      "provenance": [],
      "authorship_tag": "ABX9TyMc81mnIuP0ZskK/xHkZuLk",
      "include_colab_link": true
    },
    "kernelspec": {
      "name": "python3",
      "display_name": "Python 3"
    },
    "language_info": {
      "name": "python"
    }
  },
  "cells": [
    {
      "cell_type": "markdown",
      "metadata": {
        "id": "view-in-github",
        "colab_type": "text"
      },
      "source": [
        "<a href=\"https://colab.research.google.com/github/ElizabethNicole7576/SIS420-2-2022/blob/main/1erParcial.ipynb\" target=\"_parent\"><img src=\"https://colab.research.google.com/assets/colab-badge.svg\" alt=\"Open In Colab\"/></a>"
      ]
    },
    {
      "cell_type": "code",
      "execution_count": 1,
      "metadata": {
        "colab": {
          "base_uri": "https://localhost:8080/"
        },
        "id": "W-K-IRvypTKV",
        "outputId": "7dcf8b40-6968-48c8-b108-7b18409a180d"
      },
      "outputs": [
        {
          "output_type": "stream",
          "name": "stdout",
          "text": [
            "Solucion:\n",
            "[0, 0] 1 [3, 3]\n",
            "[1, 1] 0 [2, 2]\n",
            "[0, 1] 1 [3, 2]\n",
            "[0, 3] 0 [3, 0]\n",
            "[0, 2] 1 [3, 1]\n",
            "[2, 2] 0 [1, 1]\n",
            "[1, 1] 1 [2, 2]\n",
            "[3, 1] 0 [0, 2]\n",
            "[3, 0] 1 [0, 3]\n",
            "[3, 2] 0 [0, 1]\n",
            "[3, 1] 1 [0, 2]\n",
            "[3, 3] 0 [0, 0]\n"
          ]
        }
      ],
      "source": [
        "\"\"\" \n",
        "Peralta Sarabia Elizabeth Nicole\n",
        "\"\"\"\n",
        "from collections import deque\n",
        "from copy import deepcopy\n",
        "\n",
        "class Nodo():\n",
        "    def __init__(self, izq, barquito, der):\n",
        "        self.izq = izq\n",
        "        self.barquito = barquito\n",
        "        self.der = der\n",
        "        self.prev = None\n",
        "\n",
        "    def estado_valido(self):\n",
        "        if (0 < self.izq[0] < self.izq[1] or 0 < self.der[0] < self.der[1]):\n",
        "            return False\n",
        "        if (self.izq[0] < 0 or self.izq[1] < 0 or self.der[0] < 0 or self.der[1] < 0):\n",
        "            return False\n",
        "        return True\n",
        "\n",
        "    def __eq__(self, other):\n",
        "        return (self.izq[0] == other.izq[0] and self.izq[1] == other.izq[1] and self.der[0] == other.der[0] and self.der[1] == other.der[1] and self.barquito == other.barquito)\n",
        "\n",
        "    def __hash__(self):\n",
        "        return hash((self.izq[0], self.izq[1], self.barquito, self.der[0], self.der[1]))\n",
        "\n",
        "    def objetivo(self):\n",
        "        return (self.izq[0] == 0 and self.izq[1] == 0)\n",
        "  \n",
        "def siguiente_estado(actual):\n",
        "    nodes = []\n",
        "\n",
        "    for action in viajes:\n",
        "\n",
        "        siguiente = deepcopy(actual)\n",
        "        siguiente.prev = actual\n",
        "\n",
        "        siguiente.barquito = 1-actual.barquito\n",
        "\n",
        "        if (actual.barquito == 0):\n",
        "\n",
        "            siguiente.der[0] += action[0]\n",
        "            siguiente.der[1] += action[1]\n",
        "\n",
        "            siguiente.izq[0] -= action[0]\n",
        "            siguiente.izq[1] -= action[1]\n",
        "\n",
        "        # De derecha a izquierda\n",
        "        else:\n",
        "\n",
        "            siguiente.der[0] -= action[0]\n",
        "            siguiente.der[1] -= action[1]\n",
        "\n",
        "            siguiente.izq[0] += action[0]\n",
        "            siguiente.izq[1] += action[1]\n",
        "\n",
        "        if (siguiente.estado_valido()):\n",
        "            nodes.append(siguiente)\n",
        "\n",
        "    return nodes\n",
        " \n",
        "def bfs(est):\n",
        "    if est.objetivo():\n",
        "        return est\n",
        "    visitados = set()\n",
        "    cola = deque() # Cola de estados\n",
        "    cola.append(est)\n",
        "    visitados.add(est)\n",
        "    while cola:\n",
        "        actual = cola.popleft()\n",
        "        for siguiente in siguiente_estado(actual):\n",
        "            if siguiente not in visitados:\n",
        "                if siguiente.objetivo():\n",
        "                    return siguiente\n",
        "                cola.append(siguiente)\n",
        "                visitados.add(siguiente)\n",
        "    return None\n",
        "\n",
        "def imprimir_solucion(sol):\n",
        "    if sol is None:\n",
        "        print(\"No hay solucion\")\n",
        "    else:\n",
        "        print(\"Solucion:\")\n",
        "        while sol is not None:\n",
        "            print(sol.izq,sol.barquito,sol.der)\n",
        "            sol = sol.prev\n",
        "            \n",
        "if __name__ == \"__main__\":\n",
        "    viajes = [(1, 0), (2, 0), (0, 1), (0, 2), (1, 1)]\n",
        "    estado_inicial = Nodo([3, 3], 0, [0, 0])\n",
        "    sol = bfs(estado_inicial)\n",
        "    imprimir_solucion(sol)"
      ]
    }
  ]
}